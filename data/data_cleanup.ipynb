{
 "cells": [
  {
   "cell_type": "markdown",
   "metadata": {},
   "source": [
    "# Data cleanup\n",
    "## read entire dataset"
   ]
  },
  {
   "cell_type": "code",
   "execution_count": null,
   "metadata": {},
   "outputs": [],
   "source": [
    "import pandas as pd"
   ]
  },
  {
   "cell_type": "code",
   "execution_count": null,
   "metadata": {},
   "outputs": [],
   "source": [
    "!ls -l"
   ]
  },
  {
   "cell_type": "code",
   "execution_count": null,
   "metadata": {},
   "outputs": [],
   "source": [
    "combined_data_all_df = pd.read_csv(\"combined_data_all.csv\")\n",
    "combined_data_all_df"
   ]
  },
  {
   "cell_type": "markdown",
   "metadata": {},
   "source": [
    "## select chosen variables\n",
    "\n",
    "      - 1. #3  (age)       \n",
    "      - 2. #4  (sex)        \n",
    "      - 3. #9  (cp)        \n",
    "      - 4. #12 (chol)     \n",
    "      - 5. #16 (fbs) \n",
    "      - 6. #19 (restecg)\n",
    "      - 7. #32 (thalach)\n",
    "      - 8. #38 (exang)\n",
    "      - 9. #40 (oldpeak)\n",
    "      - 10. #41 (slope)\n",
    "      - 11. #44 (ca)\n",
    "      - 12. #5 painloc: chest pain location (1 = substernal; 0 = otherwise)\n",
    "      - 13. #11 htn\n",
    "      - 14. #14 cigs (cigarettes per day)\n",
    "      - 15. #15 years (number of years as a smoker)\n",
    "      - 16. #18 famhist: family history of coronary artery disease (1 = yes; 0 = no)\n",
    "      - 17. #33 thalrest: resting heart rate\n",
    "      - 18. #58 (num)      - (the predicted attribute)\n"
   ]
  },
  {
   "cell_type": "code",
   "execution_count": null,
   "metadata": {},
   "outputs": [],
   "source": [
    "selected_df = combined_data_all_df[[\"age\", \"sex\", \"cp\", \"chol\", \"fbs\", \"restecg\", \"thalach\", \"exang\", \"oldpeak\", \"slope\", \"ca\", \"painloc\", \"htn\", \n",
    " \"cigs\", \"years\", \"famhist\", \"thalrest\", \"num\"]]\n",
    "selected_df"
   ]
  },
  {
   "cell_type": "code",
   "execution_count": null,
   "metadata": {},
   "outputs": [],
   "source": [
    "selected_df.to_csv(\"dataset_with_selected_features.csv\", index=False)"
   ]
  },
  {
   "cell_type": "code",
   "execution_count": null,
   "metadata": {},
   "outputs": [],
   "source": []
  }
 ],
 "metadata": {
  "kernelspec": {
   "display_name": "Python 3 (ipykernel)",
   "language": "python",
   "name": "python3"
  },
  "language_info": {
   "codemirror_mode": {
    "name": "ipython",
    "version": 3
   },
   "file_extension": ".py",
   "mimetype": "text/x-python",
   "name": "python",
   "nbconvert_exporter": "python",
   "pygments_lexer": "ipython3",
   "version": "3.10.14"
  }
 },
 "nbformat": 4,
 "nbformat_minor": 4
}
